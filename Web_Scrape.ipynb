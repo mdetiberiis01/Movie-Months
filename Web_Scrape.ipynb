{
 "cells": [
  {
   "cell_type": "code",
   "execution_count": 3,
   "metadata": {},
   "outputs": [],
   "source": [
    "#Import everything \n",
    "\n",
    "import pandas as pd\n",
    "import numpy as np\n",
    "import requests\n",
    "import json\n",
    "from bs4 import BeautifulSoup\n",
    "import csv\n",
    "\n",
    "import matplotlib.pyplot as plt\n",
    "plt.style.use('seaborn')\n",
    "\n",
    "\n",
    "#starting sentiment analysis \n",
    "\n",
    "import nltk\n",
    "from nltk.corpus import stopwords\n",
    "\n",
    "#Lemmatization\n",
    "#Basically changing word like resturants to resturant(words to word) bc really they mean the same thing \n",
    "\n",
    "import textblob\n",
    "\n",
    "from textblob import Word\n",
    "\n",
    "from nltk.stem import WordNetLemmatizer \n",
    "  \n",
    "lemmatizer = WordNetLemmatizer() \n",
    "\n",
    "#Sentiment Analysis\n",
    "\n",
    "from textblob import TextBlob"
   ]
  },
  {
   "cell_type": "code",
   "execution_count": 4,
   "metadata": {},
   "outputs": [],
   "source": [
    "#Create a function to gather average number of words per review\n",
    "\n",
    "def average_words(x):\n",
    "    words = x.split() #to give the # of words\n",
    "    return sum(len(word)for word in words) / len(words)"
   ]
  },
  {
   "cell_type": "code",
   "execution_count": 5,
   "metadata": {},
   "outputs": [],
   "source": [
    "movie_df = pd.read_csv('/Users/markdetiberiis/MovieMonths/movie_df.csv')"
   ]
  },
  {
   "cell_type": "code",
   "execution_count": 6,
   "metadata": {},
   "outputs": [],
   "source": [
    "f = open('/Users/markdetiberiis/MovieMonths/movie_titles.csv')\n",
    "csv_f = csv.reader(f)"
   ]
  },
  {
   "cell_type": "code",
   "execution_count": 7,
   "metadata": {},
   "outputs": [],
   "source": [
    "with open('/Users/markdetiberiis/MovieMonths/movie_titles.csv', newline='') as f:\n",
    "    reader = csv.reader(f)\n",
    "    titles = list(reader)\n",
    "\n"
   ]
  },
  {
   "cell_type": "code",
   "execution_count": 8,
   "metadata": {},
   "outputs": [],
   "source": [
    "new_list = []\n",
    "for v in titles:\n",
    "    new_list.append(v[0])"
   ]
  },
  {
   "cell_type": "code",
   "execution_count": 9,
   "metadata": {},
   "outputs": [
    {
     "data": {
      "text/plain": [
       "'The_Rum_Diary'"
      ]
     },
     "execution_count": 9,
     "metadata": {},
     "output_type": "execute_result"
    }
   ],
   "source": [
    "new_list[10]"
   ]
  },
  {
   "cell_type": "code",
   "execution_count": 10,
   "metadata": {},
   "outputs": [
    {
     "data": {
      "text/plain": [
       "2876"
      ]
     },
     "execution_count": 10,
     "metadata": {},
     "output_type": "execute_result"
    }
   ],
   "source": [
    "len(new_list)"
   ]
  },
  {
   "cell_type": "code",
   "execution_count": 11,
   "metadata": {},
   "outputs": [
    {
     "data": {
      "text/plain": [
       "'The_Terrorist'"
      ]
     },
     "execution_count": 11,
     "metadata": {},
     "output_type": "execute_result"
    }
   ],
   "source": [
    "new_list[-1]"
   ]
  },
  {
   "cell_type": "code",
   "execution_count": 12,
   "metadata": {},
   "outputs": [],
   "source": [
    "#stop words that dont add value\n",
    "\n",
    "other_stopwords = ['us','get','also','would','end']"
   ]
  },
  {
   "cell_type": "code",
   "execution_count": 14,
   "metadata": {},
   "outputs": [],
   "source": [
    "#Need a counter to count which index to set primary_title equal too\n"
   ]
  },
  {
   "cell_type": "code",
   "execution_count": 37,
   "metadata": {},
   "outputs": [
    {
     "ename": "AttributeError",
     "evalue": "'str' object has no attribute 'append'",
     "output_type": "error",
     "traceback": [
      "\u001b[0;31m---------------------------------------------------------------------------\u001b[0m",
      "\u001b[0;31mAttributeError\u001b[0m                            Traceback (most recent call last)",
      "\u001b[0;32m<ipython-input-37-31703a90a385>\u001b[0m in \u001b[0;36m<module>\u001b[0;34m\u001b[0m\n\u001b[1;32m     23\u001b[0m \u001b[0;34m\u001b[0m\u001b[0m\n\u001b[1;32m     24\u001b[0m         \u001b[0;32mfor\u001b[0m \u001b[0mx\u001b[0m \u001b[0;32min\u001b[0m \u001b[0mreviews\u001b[0m\u001b[0;34m:\u001b[0m\u001b[0;34m\u001b[0m\u001b[0;34m\u001b[0m\u001b[0m\n\u001b[0;32m---> 25\u001b[0;31m             \u001b[0mclean_reviews\u001b[0m\u001b[0;34m.\u001b[0m\u001b[0mappend\u001b[0m\u001b[0;34m(\u001b[0m\u001b[0mx\u001b[0m\u001b[0;34m.\u001b[0m\u001b[0mstrip\u001b[0m\u001b[0;34m(\u001b[0m\u001b[0;34m)\u001b[0m\u001b[0;34m)\u001b[0m\u001b[0;34m\u001b[0m\u001b[0;34m\u001b[0m\u001b[0m\n\u001b[0m\u001b[1;32m     26\u001b[0m \u001b[0;34m\u001b[0m\u001b[0m\n\u001b[1;32m     27\u001b[0m \u001b[0;34m\u001b[0m\u001b[0m\n",
      "\u001b[0;31mAttributeError\u001b[0m: 'str' object has no attribute 'append'"
     ]
    }
   ],
   "source": [
    "#Collect all reviews from each movie \n",
    "\n",
    "di = {}\n",
    "\n",
    "for title in new_list:\n",
    "    R = requests.get('https://www.rottentomatoes.com/m/{}'.format(title))\n",
    "    if R.status_code == 404:\n",
    "    \n",
    "        continue \n",
    "    elif R.status_code == 500:\n",
    "      \n",
    "        continue \n",
    "    else:\n",
    "        soup = BeautifulSoup(R.text, 'html.parser')\n",
    "#collect the div content \n",
    "        divs = soup.findAll(class_='media-body quote_bubble__quote')\n",
    "\n",
    "        reviews = []\n",
    "        for div in divs:\n",
    "            reviews.append(div.find('p').text)\n",
    "\n",
    "        clean_reviews = []\n",
    "\n",
    "        for x in reviews:\n",
    "            clean_reviews.append(x.strip())\n",
    "            \n",
    "            \n",
    "        di[title] = {\"review\": clean_reviews}\n",
    "        \n",
    "        print(title, '\\t', di[title])\n",
    "        \n",
    "\n"
   ]
  },
  {
   "cell_type": "code",
   "execution_count": 38,
   "metadata": {},
   "outputs": [
    {
     "data": {
      "text/plain": [
       "{}"
      ]
     },
     "execution_count": 38,
     "metadata": {},
     "output_type": "execute_result"
    }
   ],
   "source": [
    "#display reviews\n",
    "\n",
    "di\n"
   ]
  },
  {
   "cell_type": "code",
   "execution_count": 23,
   "metadata": {},
   "outputs": [],
   "source": [
    "reviews_df = pd.DataFrame(di)\n",
    " \n",
    "#swap rows and columns\n",
    "\n",
    "df_t = reviews_df.T"
   ]
  },
  {
   "cell_type": "code",
   "execution_count": null,
   "metadata": {},
   "outputs": [],
   "source": []
  },
  {
   "cell_type": "code",
   "execution_count": 21,
   "metadata": {},
   "outputs": [],
   "source": [
    "\n",
    "#add movie name \n",
    "df_t['primary_title'] = title\n",
    "        #reviews_df['movie_name'] = new_list[title]      "
   ]
  },
  {
   "cell_type": "code",
   "execution_count": 30,
   "metadata": {},
   "outputs": [
    {
     "data": {
      "text/html": [
       "<div>\n",
       "<style scoped>\n",
       "    .dataframe tbody tr th:only-of-type {\n",
       "        vertical-align: middle;\n",
       "    }\n",
       "\n",
       "    .dataframe tbody tr th {\n",
       "        vertical-align: top;\n",
       "    }\n",
       "\n",
       "    .dataframe thead th {\n",
       "        text-align: right;\n",
       "    }\n",
       "</style>\n",
       "<table border=\"1\" class=\"dataframe\">\n",
       "  <thead>\n",
       "    <tr style=\"text-align: right;\">\n",
       "      <th></th>\n",
       "      <th>review</th>\n",
       "    </tr>\n",
       "  </thead>\n",
       "  <tbody>\n",
       "    <tr>\n",
       "      <th>Foodfight</th>\n",
       "      <td>[Odd adventure-comedy has lots of innuendo, ca...</td>\n",
       "    </tr>\n",
       "    <tr>\n",
       "      <th>The_Overnight</th>\n",
       "      <td>[Brice goes a bit too broad at times, but he k...</td>\n",
       "    </tr>\n",
       "    <tr>\n",
       "      <th>On_the_Road</th>\n",
       "      <td>[It's not a wreck of a movie; it's not a sleek...</td>\n",
       "    </tr>\n",
       "    <tr>\n",
       "      <th>The_Secret_Life_of_Walter_Mitty</th>\n",
       "      <td>[This is one of the more disappointing efforts...</td>\n",
       "    </tr>\n",
       "    <tr>\n",
       "      <th>A_Walk_Among_the_Tombstones</th>\n",
       "      <td>[Frank's film is much more of a noir outing th...</td>\n",
       "    </tr>\n",
       "  </tbody>\n",
       "</table>\n",
       "</div>"
      ],
      "text/plain": [
       "                                                                            review\n",
       "Foodfight                        [Odd adventure-comedy has lots of innuendo, ca...\n",
       "The_Overnight                    [Brice goes a bit too broad at times, but he k...\n",
       "On_the_Road                      [It's not a wreck of a movie; it's not a sleek...\n",
       "The_Secret_Life_of_Walter_Mitty  [This is one of the more disappointing efforts...\n",
       "A_Walk_Among_the_Tombstones      [Frank's film is much more of a noir outing th..."
      ]
     },
     "execution_count": 30,
     "metadata": {},
     "output_type": "execute_result"
    }
   ],
   "source": [
    "df_t.head()"
   ]
  },
  {
   "cell_type": "code",
   "execution_count": 33,
   "metadata": {},
   "outputs": [],
   "source": [
    "#List to string \n",
    "def listToString(s):  \n",
    "    \n",
    "    # initialize an empty string \n",
    "    str1 = \"\"  \n",
    "    \n",
    "    # traverse in the string   \n",
    "    for ele in s:  \n",
    "        str1 += ele   \n",
    "    \n",
    "    # return string   \n",
    "    return str1  "
   ]
  },
  {
   "cell_type": "code",
   "execution_count": 34,
   "metadata": {},
   "outputs": [
    {
     "data": {
      "text/plain": [
       "'Unplanned will make you writhe in agony over how such an ugly, malicious and potentially dangerous piece of religious and political propaganda could have made its way into this world.Writer-directors Chuck Konzelman and Cary Solomon spend more time making their talking points than developing their characters, who exist merely to make their arguments.One wonders why Unplanned, which resembles a basic cable television movie in its mediocre production values and subpar performances, was made.Abortion is a serious topic. This movie is ridiculous.They\\'re performers in a parable traced over a Chick tract, filmed with a bland competence at odds with the true perversity of the material. Old-school Pure Flix: Welcome back!It\\'s strictly set up to rally its base.It\\'s not going to change any minds.And even if presented to a mixed audience, Unplanned is neither smart enough to rally anyone to its cause, nor dumb enough to alienate those who believe its message. As propaganda, therefore, it\\'s basically useless.The thing about propaganda is, it has to be persuasive to be effective. Unplanned is too simplistic to do much more than preach to the converted.Bland acting, boring writing, everyone doing their best but simply not being very good at the things they\\'re trying to do, bless their hearts.This serves nobody but the people that made it. It\\'s lining their pockets.\"Unplanned\" doesn\\'t come close to exploring all of the different combating arguments connected to abortion, but the case it makes is sobering to consider.'"
      ]
     },
     "execution_count": 34,
     "metadata": {},
     "output_type": "execute_result"
    }
   ],
   "source": [
    "listToString(clean_reviews)"
   ]
  },
  {
   "cell_type": "code",
   "execution_count": 41,
   "metadata": {},
   "outputs": [],
   "source": [
    "df_t['review_as_string'] = df_t['review'].apply(', '.join)"
   ]
  },
  {
   "cell_type": "code",
   "execution_count": 42,
   "metadata": {},
   "outputs": [
    {
     "data": {
      "text/html": [
       "<div>\n",
       "<style scoped>\n",
       "    .dataframe tbody tr th:only-of-type {\n",
       "        vertical-align: middle;\n",
       "    }\n",
       "\n",
       "    .dataframe tbody tr th {\n",
       "        vertical-align: top;\n",
       "    }\n",
       "\n",
       "    .dataframe thead th {\n",
       "        text-align: right;\n",
       "    }\n",
       "</style>\n",
       "<table border=\"1\" class=\"dataframe\">\n",
       "  <thead>\n",
       "    <tr style=\"text-align: right;\">\n",
       "      <th></th>\n",
       "      <th>review</th>\n",
       "      <th>review_as_string</th>\n",
       "    </tr>\n",
       "  </thead>\n",
       "  <tbody>\n",
       "    <tr>\n",
       "      <th>Foodfight</th>\n",
       "      <td>[Odd adventure-comedy has lots of innuendo, ca...</td>\n",
       "      <td>Odd adventure-comedy has lots of innuendo, car...</td>\n",
       "    </tr>\n",
       "    <tr>\n",
       "      <th>The_Overnight</th>\n",
       "      <td>[Brice goes a bit too broad at times, but he k...</td>\n",
       "      <td>Brice goes a bit too broad at times, but he ke...</td>\n",
       "    </tr>\n",
       "    <tr>\n",
       "      <th>On_the_Road</th>\n",
       "      <td>[It's not a wreck of a movie; it's not a sleek...</td>\n",
       "      <td>It's not a wreck of a movie; it's not a sleek ...</td>\n",
       "    </tr>\n",
       "    <tr>\n",
       "      <th>The_Secret_Life_of_Walter_Mitty</th>\n",
       "      <td>[This is one of the more disappointing efforts...</td>\n",
       "      <td>This is one of the more disappointing efforts ...</td>\n",
       "    </tr>\n",
       "    <tr>\n",
       "      <th>A_Walk_Among_the_Tombstones</th>\n",
       "      <td>[Frank's film is much more of a noir outing th...</td>\n",
       "      <td>Frank's film is much more of a noir outing tha...</td>\n",
       "    </tr>\n",
       "    <tr>\n",
       "      <th>...</th>\n",
       "      <td>...</td>\n",
       "      <td>...</td>\n",
       "    </tr>\n",
       "    <tr>\n",
       "      <th>The_Specials</th>\n",
       "      <td>[\"The Specials,\" in the end, is not a very com...</td>\n",
       "      <td>\"The Specials,\" in the end, is not a very comp...</td>\n",
       "    </tr>\n",
       "    <tr>\n",
       "      <th>Never_Again</th>\n",
       "      <td>[If Never Again is the best film we can get ab...</td>\n",
       "      <td>If Never Again is the best film we can get abo...</td>\n",
       "    </tr>\n",
       "    <tr>\n",
       "      <th>Heroes</th>\n",
       "      <td>[The subject deserved a better film., Samir Ka...</td>\n",
       "      <td>The subject deserved a better film., Samir Kar...</td>\n",
       "    </tr>\n",
       "    <tr>\n",
       "      <th>Push</th>\n",
       "      <td>[]</td>\n",
       "      <td></td>\n",
       "    </tr>\n",
       "    <tr>\n",
       "      <th>Unplanned</th>\n",
       "      <td>[Unplanned will make you writhe in agony over ...</td>\n",
       "      <td>Unplanned will make you writhe in agony over h...</td>\n",
       "    </tr>\n",
       "  </tbody>\n",
       "</table>\n",
       "<p>1756 rows × 2 columns</p>\n",
       "</div>"
      ],
      "text/plain": [
       "                                                                            review  \\\n",
       "Foodfight                        [Odd adventure-comedy has lots of innuendo, ca...   \n",
       "The_Overnight                    [Brice goes a bit too broad at times, but he k...   \n",
       "On_the_Road                      [It's not a wreck of a movie; it's not a sleek...   \n",
       "The_Secret_Life_of_Walter_Mitty  [This is one of the more disappointing efforts...   \n",
       "A_Walk_Among_the_Tombstones      [Frank's film is much more of a noir outing th...   \n",
       "...                                                                            ...   \n",
       "The_Specials                     [\"The Specials,\" in the end, is not a very com...   \n",
       "Never_Again                      [If Never Again is the best film we can get ab...   \n",
       "Heroes                           [The subject deserved a better film., Samir Ka...   \n",
       "Push                                                                            []   \n",
       "Unplanned                        [Unplanned will make you writhe in agony over ...   \n",
       "\n",
       "                                                                  review_as_string  \n",
       "Foodfight                        Odd adventure-comedy has lots of innuendo, car...  \n",
       "The_Overnight                    Brice goes a bit too broad at times, but he ke...  \n",
       "On_the_Road                      It's not a wreck of a movie; it's not a sleek ...  \n",
       "The_Secret_Life_of_Walter_Mitty  This is one of the more disappointing efforts ...  \n",
       "A_Walk_Among_the_Tombstones      Frank's film is much more of a noir outing tha...  \n",
       "...                                                                            ...  \n",
       "The_Specials                     \"The Specials,\" in the end, is not a very comp...  \n",
       "Never_Again                      If Never Again is the best film we can get abo...  \n",
       "Heroes                           The subject deserved a better film., Samir Kar...  \n",
       "Push                                                                                \n",
       "Unplanned                        Unplanned will make you writhe in agony over h...  \n",
       "\n",
       "[1756 rows x 2 columns]"
      ]
     },
     "execution_count": 42,
     "metadata": {},
     "output_type": "execute_result"
    }
   ],
   "source": [
    "df_t"
   ]
  },
  {
   "cell_type": "code",
   "execution_count": 44,
   "metadata": {},
   "outputs": [],
   "source": [
    "\n",
    "#Gather the word length of each review\n",
    "df_t['word_count'] = df_t['review_as_string'].apply(lambda x: len(x.split()))\n",
    "#Gather the character count of each review\n",
    "\n",
    "\n"
   ]
  },
  {
   "cell_type": "code",
   "execution_count": 45,
   "metadata": {},
   "outputs": [],
   "source": [
    "df_t['char_count'] = df_t['review_as_string'].apply(lambda x: len(x))\n"
   ]
  },
  {
   "cell_type": "code",
   "execution_count": 47,
   "metadata": {
    "scrolled": true
   },
   "outputs": [
    {
     "data": {
      "text/html": [
       "<div>\n",
       "<style scoped>\n",
       "    .dataframe tbody tr th:only-of-type {\n",
       "        vertical-align: middle;\n",
       "    }\n",
       "\n",
       "    .dataframe tbody tr th {\n",
       "        vertical-align: top;\n",
       "    }\n",
       "\n",
       "    .dataframe thead th {\n",
       "        text-align: right;\n",
       "    }\n",
       "</style>\n",
       "<table border=\"1\" class=\"dataframe\">\n",
       "  <thead>\n",
       "    <tr style=\"text-align: right;\">\n",
       "      <th></th>\n",
       "      <th>review</th>\n",
       "      <th>review_as_string</th>\n",
       "      <th>word_count</th>\n",
       "      <th>char_count</th>\n",
       "    </tr>\n",
       "  </thead>\n",
       "  <tbody>\n",
       "    <tr>\n",
       "      <th>Foodfight</th>\n",
       "      <td>[Odd adventure-comedy has lots of innuendo, ca...</td>\n",
       "      <td>Odd adventure-comedy has lots of innuendo, car...</td>\n",
       "      <td>25</td>\n",
       "      <td>178</td>\n",
       "    </tr>\n",
       "    <tr>\n",
       "      <th>The_Overnight</th>\n",
       "      <td>[Brice goes a bit too broad at times, but he k...</td>\n",
       "      <td>Brice goes a bit too broad at times, but he ke...</td>\n",
       "      <td>306</td>\n",
       "      <td>1799</td>\n",
       "    </tr>\n",
       "    <tr>\n",
       "      <th>On_the_Road</th>\n",
       "      <td>[It's not a wreck of a movie; it's not a sleek...</td>\n",
       "      <td>It's not a wreck of a movie; it's not a sleek ...</td>\n",
       "      <td>266</td>\n",
       "      <td>1505</td>\n",
       "    </tr>\n",
       "    <tr>\n",
       "      <th>The_Secret_Life_of_Walter_Mitty</th>\n",
       "      <td>[This is one of the more disappointing efforts...</td>\n",
       "      <td>This is one of the more disappointing efforts ...</td>\n",
       "      <td>300</td>\n",
       "      <td>1783</td>\n",
       "    </tr>\n",
       "    <tr>\n",
       "      <th>A_Walk_Among_the_Tombstones</th>\n",
       "      <td>[Frank's film is much more of a noir outing th...</td>\n",
       "      <td>Frank's film is much more of a noir outing tha...</td>\n",
       "      <td>269</td>\n",
       "      <td>1551</td>\n",
       "    </tr>\n",
       "    <tr>\n",
       "      <th>...</th>\n",
       "      <td>...</td>\n",
       "      <td>...</td>\n",
       "      <td>...</td>\n",
       "      <td>...</td>\n",
       "    </tr>\n",
       "    <tr>\n",
       "      <th>The_Specials</th>\n",
       "      <td>[\"The Specials,\" in the end, is not a very com...</td>\n",
       "      <td>\"The Specials,\" in the end, is not a very comp...</td>\n",
       "      <td>218</td>\n",
       "      <td>1299</td>\n",
       "    </tr>\n",
       "    <tr>\n",
       "      <th>Never_Again</th>\n",
       "      <td>[If Never Again is the best film we can get ab...</td>\n",
       "      <td>If Never Again is the best film we can get abo...</td>\n",
       "      <td>204</td>\n",
       "      <td>1224</td>\n",
       "    </tr>\n",
       "    <tr>\n",
       "      <th>Heroes</th>\n",
       "      <td>[The subject deserved a better film., Samir Ka...</td>\n",
       "      <td>The subject deserved a better film., Samir Kar...</td>\n",
       "      <td>16</td>\n",
       "      <td>103</td>\n",
       "    </tr>\n",
       "    <tr>\n",
       "      <th>Push</th>\n",
       "      <td>[]</td>\n",
       "      <td></td>\n",
       "      <td>0</td>\n",
       "      <td>0</td>\n",
       "    </tr>\n",
       "    <tr>\n",
       "      <th>Unplanned</th>\n",
       "      <td>[Unplanned will make you writhe in agony over ...</td>\n",
       "      <td>Unplanned will make you writhe in agony over h...</td>\n",
       "      <td>250</td>\n",
       "      <td>1549</td>\n",
       "    </tr>\n",
       "  </tbody>\n",
       "</table>\n",
       "<p>1756 rows × 4 columns</p>\n",
       "</div>"
      ],
      "text/plain": [
       "                                                                            review  \\\n",
       "Foodfight                        [Odd adventure-comedy has lots of innuendo, ca...   \n",
       "The_Overnight                    [Brice goes a bit too broad at times, but he k...   \n",
       "On_the_Road                      [It's not a wreck of a movie; it's not a sleek...   \n",
       "The_Secret_Life_of_Walter_Mitty  [This is one of the more disappointing efforts...   \n",
       "A_Walk_Among_the_Tombstones      [Frank's film is much more of a noir outing th...   \n",
       "...                                                                            ...   \n",
       "The_Specials                     [\"The Specials,\" in the end, is not a very com...   \n",
       "Never_Again                      [If Never Again is the best film we can get ab...   \n",
       "Heroes                           [The subject deserved a better film., Samir Ka...   \n",
       "Push                                                                            []   \n",
       "Unplanned                        [Unplanned will make you writhe in agony over ...   \n",
       "\n",
       "                                                                  review_as_string  \\\n",
       "Foodfight                        Odd adventure-comedy has lots of innuendo, car...   \n",
       "The_Overnight                    Brice goes a bit too broad at times, but he ke...   \n",
       "On_the_Road                      It's not a wreck of a movie; it's not a sleek ...   \n",
       "The_Secret_Life_of_Walter_Mitty  This is one of the more disappointing efforts ...   \n",
       "A_Walk_Among_the_Tombstones      Frank's film is much more of a noir outing tha...   \n",
       "...                                                                            ...   \n",
       "The_Specials                     \"The Specials,\" in the end, is not a very comp...   \n",
       "Never_Again                      If Never Again is the best film we can get abo...   \n",
       "Heroes                           The subject deserved a better film., Samir Kar...   \n",
       "Push                                                                                 \n",
       "Unplanned                        Unplanned will make you writhe in agony over h...   \n",
       "\n",
       "                                 word_count  char_count  \n",
       "Foodfight                                25         178  \n",
       "The_Overnight                           306        1799  \n",
       "On_the_Road                             266        1505  \n",
       "The_Secret_Life_of_Walter_Mitty         300        1783  \n",
       "A_Walk_Among_the_Tombstones             269        1551  \n",
       "...                                     ...         ...  \n",
       "The_Specials                            218        1299  \n",
       "Never_Again                             204        1224  \n",
       "Heroes                                   16         103  \n",
       "Push                                      0           0  \n",
       "Unplanned                               250        1549  \n",
       "\n",
       "[1756 rows x 4 columns]"
      ]
     },
     "execution_count": 47,
     "metadata": {},
     "output_type": "execute_result"
    }
   ],
   "source": [
    "df_t"
   ]
  },
  {
   "cell_type": "code",
   "execution_count": 46,
   "metadata": {},
   "outputs": [
    {
     "ename": "ZeroDivisionError",
     "evalue": "division by zero",
     "output_type": "error",
     "traceback": [
      "\u001b[0;31m---------------------------------------------------------------------------\u001b[0m",
      "\u001b[0;31mZeroDivisionError\u001b[0m                         Traceback (most recent call last)",
      "\u001b[0;32m<ipython-input-46-63a3b992cb0a>\u001b[0m in \u001b[0;36m<module>\u001b[0;34m\u001b[0m\n\u001b[0;32m----> 1\u001b[0;31m \u001b[0mdf_t\u001b[0m\u001b[0;34m[\u001b[0m\u001b[0;34m'average_word_length'\u001b[0m\u001b[0;34m]\u001b[0m \u001b[0;34m=\u001b[0m \u001b[0mdf_t\u001b[0m\u001b[0;34m[\u001b[0m\u001b[0;34m'review_as_string'\u001b[0m\u001b[0;34m]\u001b[0m\u001b[0;34m.\u001b[0m\u001b[0mapply\u001b[0m\u001b[0;34m(\u001b[0m\u001b[0;32mlambda\u001b[0m \u001b[0mx\u001b[0m\u001b[0;34m:\u001b[0m \u001b[0maverage_words\u001b[0m\u001b[0;34m(\u001b[0m\u001b[0mx\u001b[0m\u001b[0;34m)\u001b[0m\u001b[0;34m)\u001b[0m\u001b[0;34m\u001b[0m\u001b[0;34m\u001b[0m\u001b[0m\n\u001b[0m",
      "\u001b[0;32m~/opt/anaconda3/lib/python3.8/site-packages/pandas/core/series.py\u001b[0m in \u001b[0;36mapply\u001b[0;34m(self, func, convert_dtype, args, **kwds)\u001b[0m\n\u001b[1;32m   3846\u001b[0m             \u001b[0;32melse\u001b[0m\u001b[0;34m:\u001b[0m\u001b[0;34m\u001b[0m\u001b[0;34m\u001b[0m\u001b[0m\n\u001b[1;32m   3847\u001b[0m                 \u001b[0mvalues\u001b[0m \u001b[0;34m=\u001b[0m \u001b[0mself\u001b[0m\u001b[0;34m.\u001b[0m\u001b[0mastype\u001b[0m\u001b[0;34m(\u001b[0m\u001b[0mobject\u001b[0m\u001b[0;34m)\u001b[0m\u001b[0;34m.\u001b[0m\u001b[0mvalues\u001b[0m\u001b[0;34m\u001b[0m\u001b[0;34m\u001b[0m\u001b[0m\n\u001b[0;32m-> 3848\u001b[0;31m                 \u001b[0mmapped\u001b[0m \u001b[0;34m=\u001b[0m \u001b[0mlib\u001b[0m\u001b[0;34m.\u001b[0m\u001b[0mmap_infer\u001b[0m\u001b[0;34m(\u001b[0m\u001b[0mvalues\u001b[0m\u001b[0;34m,\u001b[0m \u001b[0mf\u001b[0m\u001b[0;34m,\u001b[0m \u001b[0mconvert\u001b[0m\u001b[0;34m=\u001b[0m\u001b[0mconvert_dtype\u001b[0m\u001b[0;34m)\u001b[0m\u001b[0;34m\u001b[0m\u001b[0;34m\u001b[0m\u001b[0m\n\u001b[0m\u001b[1;32m   3849\u001b[0m \u001b[0;34m\u001b[0m\u001b[0m\n\u001b[1;32m   3850\u001b[0m         \u001b[0;32mif\u001b[0m \u001b[0mlen\u001b[0m\u001b[0;34m(\u001b[0m\u001b[0mmapped\u001b[0m\u001b[0;34m)\u001b[0m \u001b[0;32mand\u001b[0m \u001b[0misinstance\u001b[0m\u001b[0;34m(\u001b[0m\u001b[0mmapped\u001b[0m\u001b[0;34m[\u001b[0m\u001b[0;36m0\u001b[0m\u001b[0;34m]\u001b[0m\u001b[0;34m,\u001b[0m \u001b[0mSeries\u001b[0m\u001b[0;34m)\u001b[0m\u001b[0;34m:\u001b[0m\u001b[0;34m\u001b[0m\u001b[0;34m\u001b[0m\u001b[0m\n",
      "\u001b[0;32mpandas/_libs/lib.pyx\u001b[0m in \u001b[0;36mpandas._libs.lib.map_infer\u001b[0;34m()\u001b[0m\n",
      "\u001b[0;32m<ipython-input-46-63a3b992cb0a>\u001b[0m in \u001b[0;36m<lambda>\u001b[0;34m(x)\u001b[0m\n\u001b[0;32m----> 1\u001b[0;31m \u001b[0mdf_t\u001b[0m\u001b[0;34m[\u001b[0m\u001b[0;34m'average_word_length'\u001b[0m\u001b[0;34m]\u001b[0m \u001b[0;34m=\u001b[0m \u001b[0mdf_t\u001b[0m\u001b[0;34m[\u001b[0m\u001b[0;34m'review_as_string'\u001b[0m\u001b[0;34m]\u001b[0m\u001b[0;34m.\u001b[0m\u001b[0mapply\u001b[0m\u001b[0;34m(\u001b[0m\u001b[0;32mlambda\u001b[0m \u001b[0mx\u001b[0m\u001b[0;34m:\u001b[0m \u001b[0maverage_words\u001b[0m\u001b[0;34m(\u001b[0m\u001b[0mx\u001b[0m\u001b[0;34m)\u001b[0m\u001b[0;34m)\u001b[0m\u001b[0;34m\u001b[0m\u001b[0;34m\u001b[0m\u001b[0m\n\u001b[0m",
      "\u001b[0;32m<ipython-input-4-65c47899c0ba>\u001b[0m in \u001b[0;36maverage_words\u001b[0;34m(x)\u001b[0m\n\u001b[1;32m      3\u001b[0m \u001b[0;32mdef\u001b[0m \u001b[0maverage_words\u001b[0m\u001b[0;34m(\u001b[0m\u001b[0mx\u001b[0m\u001b[0;34m)\u001b[0m\u001b[0;34m:\u001b[0m\u001b[0;34m\u001b[0m\u001b[0;34m\u001b[0m\u001b[0m\n\u001b[1;32m      4\u001b[0m     \u001b[0mwords\u001b[0m \u001b[0;34m=\u001b[0m \u001b[0mx\u001b[0m\u001b[0;34m.\u001b[0m\u001b[0msplit\u001b[0m\u001b[0;34m(\u001b[0m\u001b[0;34m)\u001b[0m \u001b[0;31m#to give the # of words\u001b[0m\u001b[0;34m\u001b[0m\u001b[0;34m\u001b[0m\u001b[0m\n\u001b[0;32m----> 5\u001b[0;31m     \u001b[0;32mreturn\u001b[0m \u001b[0msum\u001b[0m\u001b[0;34m(\u001b[0m\u001b[0mlen\u001b[0m\u001b[0;34m(\u001b[0m\u001b[0mword\u001b[0m\u001b[0;34m)\u001b[0m\u001b[0;32mfor\u001b[0m \u001b[0mword\u001b[0m \u001b[0;32min\u001b[0m \u001b[0mwords\u001b[0m\u001b[0;34m)\u001b[0m \u001b[0;34m/\u001b[0m \u001b[0mlen\u001b[0m\u001b[0;34m(\u001b[0m\u001b[0mwords\u001b[0m\u001b[0;34m)\u001b[0m\u001b[0;34m\u001b[0m\u001b[0;34m\u001b[0m\u001b[0m\n\u001b[0m",
      "\u001b[0;31mZeroDivisionError\u001b[0m: division by zero"
     ]
    }
   ],
   "source": [
    "df_t['average_word_length'] = df_t['review_as_string'].apply(lambda x: average_words(x))\n"
   ]
  },
  {
   "cell_type": "code",
   "execution_count": 49,
   "metadata": {},
   "outputs": [],
   "source": [
    "stop_words = stopwords.words('english')\n",
    "#How many stop words in each review \n",
    "df_t['stopword_count'] = df_t['review_as_string'].apply(lambda x: len([word for word in x.split() if word in stop_words]))\n",
    "df_t['stopword_percentage'] = df_t['stopword_count']/df_t['word_count']\n",
    "#Data Cleaning "
   ]
  },
  {
   "cell_type": "code",
   "execution_count": 50,
   "metadata": {},
   "outputs": [],
   "source": [
    "\n",
    "#looping through each word which is x\n",
    "#splititng x givng us every word\n",
    "#every word we get back were lowering\n",
    "df_t['lowercase'] = df_t['review_as_string'].apply(lambda x: \" \".join(word.lower() for word in x.split()))\n",
    "#removing puncuations\n",
    "df_t['punctuation'] = df_t['lowercase'].astype(str).str.replace('[^\\w\\s]', '')\n",
    "df_t['stopwords'] = df_t['punctuation'].apply(lambda x: \" \".join(word for word in x.split() if word not in stop_words))\n",
    "df_t['clean_review'] = df_t['stopwords'].apply(lambda x: \" \".join(word for word in x.split() if word not in other_stopwords))\n"
   ]
  },
  {
   "cell_type": "code",
   "execution_count": 51,
   "metadata": {},
   "outputs": [],
   "source": [
    "\n",
    "#an array of every single word in all the reviews\n",
    "\n",
    "#pd.Series(\" \".join(reviews_df['clean_review']).split()).value_counts()[:30]\n",
    "df_t['lemmatized'] = df_t['clean_review'].apply(lambda x: \" \".join(Word(word).lemmatize() for word in x.split()))\n",
    "#Sentiment Analysis\n",
    "df_t['polarity'] = df_t['lemmatized'].apply(lambda x: TextBlob(x).sentiment[0])\n",
    "df_t['subjectivity'] = df_t['lemmatized'].apply(lambda x: TextBlob(x).sentiment[1])\n",
    "#clean up columns we dont need now\n",
    "df_t.drop(['lowercase','punctuation','stopwords','clean_review', 'lemmatized'], axis = 1, inplace = True)\n",
    "#df_t['total_polarity'] = df_t.polarity.mean()\n",
    "    "
   ]
  },
  {
   "cell_type": "code",
   "execution_count": 54,
   "metadata": {},
   "outputs": [
    {
     "ename": "KeyError",
     "evalue": "'primary_title'",
     "output_type": "error",
     "traceback": [
      "\u001b[0;31m---------------------------------------------------------------------------\u001b[0m",
      "\u001b[0;31mKeyError\u001b[0m                                  Traceback (most recent call last)",
      "\u001b[0;32m<ipython-input-54-f43bc3946ae0>\u001b[0m in \u001b[0;36m<module>\u001b[0;34m\u001b[0m\n\u001b[1;32m      1\u001b[0m \u001b[0;31m#reviews_df['primary_title'] = movie_df['primary_title'][count]\u001b[0m\u001b[0;34m\u001b[0m\u001b[0;34m\u001b[0m\u001b[0;34m\u001b[0m\u001b[0m\n\u001b[1;32m      2\u001b[0m \u001b[0;34m\u001b[0m\u001b[0m\n\u001b[0;32m----> 3\u001b[0;31m \u001b[0mfull_movie_df\u001b[0m \u001b[0;34m=\u001b[0m \u001b[0mpd\u001b[0m\u001b[0;34m.\u001b[0m\u001b[0mmerge\u001b[0m\u001b[0;34m(\u001b[0m\u001b[0mmovie_df\u001b[0m\u001b[0;34m,\u001b[0m \u001b[0mdf_t\u001b[0m\u001b[0;34m,\u001b[0m \u001b[0mon\u001b[0m \u001b[0;34m=\u001b[0m \u001b[0;34m\"primary_title\"\u001b[0m\u001b[0;34m)\u001b[0m\u001b[0;34m\u001b[0m\u001b[0;34m\u001b[0m\u001b[0m\n\u001b[0m\u001b[1;32m      4\u001b[0m \u001b[0mfull_movie_df\u001b[0m\u001b[0;34m.\u001b[0m\u001b[0mdrop\u001b[0m\u001b[0;34m(\u001b[0m\u001b[0;34m[\u001b[0m\u001b[0;34m'Unnamed: 0.1'\u001b[0m\u001b[0;34m,\u001b[0m\u001b[0;34m'word_count'\u001b[0m\u001b[0;34m,\u001b[0m\u001b[0;34m'char_count'\u001b[0m\u001b[0;34m,\u001b[0m \u001b[0;34m'runtime_minutes'\u001b[0m\u001b[0;34m]\u001b[0m\u001b[0;34m,\u001b[0m \u001b[0maxis\u001b[0m \u001b[0;34m=\u001b[0m \u001b[0;36m1\u001b[0m\u001b[0;34m,\u001b[0m \u001b[0minplace\u001b[0m \u001b[0;34m=\u001b[0m \u001b[0;32mTrue\u001b[0m\u001b[0;34m)\u001b[0m\u001b[0;34m\u001b[0m\u001b[0;34m\u001b[0m\u001b[0m\n\u001b[1;32m      5\u001b[0m \u001b[0;34m\u001b[0m\u001b[0m\n",
      "\u001b[0;32m~/opt/anaconda3/lib/python3.8/site-packages/pandas/core/reshape/merge.py\u001b[0m in \u001b[0;36mmerge\u001b[0;34m(left, right, how, on, left_on, right_on, left_index, right_index, sort, suffixes, copy, indicator, validate)\u001b[0m\n\u001b[1;32m     71\u001b[0m     \u001b[0mvalidate\u001b[0m\u001b[0;34m=\u001b[0m\u001b[0;32mNone\u001b[0m\u001b[0;34m,\u001b[0m\u001b[0;34m\u001b[0m\u001b[0;34m\u001b[0m\u001b[0m\n\u001b[1;32m     72\u001b[0m ) -> \"DataFrame\":\n\u001b[0;32m---> 73\u001b[0;31m     op = _MergeOperation(\n\u001b[0m\u001b[1;32m     74\u001b[0m         \u001b[0mleft\u001b[0m\u001b[0;34m,\u001b[0m\u001b[0;34m\u001b[0m\u001b[0;34m\u001b[0m\u001b[0m\n\u001b[1;32m     75\u001b[0m         \u001b[0mright\u001b[0m\u001b[0;34m,\u001b[0m\u001b[0;34m\u001b[0m\u001b[0;34m\u001b[0m\u001b[0m\n",
      "\u001b[0;32m~/opt/anaconda3/lib/python3.8/site-packages/pandas/core/reshape/merge.py\u001b[0m in \u001b[0;36m__init__\u001b[0;34m(self, left, right, how, on, left_on, right_on, axis, left_index, right_index, sort, suffixes, copy, indicator, validate)\u001b[0m\n\u001b[1;32m    625\u001b[0m             \u001b[0mself\u001b[0m\u001b[0;34m.\u001b[0m\u001b[0mright_join_keys\u001b[0m\u001b[0;34m,\u001b[0m\u001b[0;34m\u001b[0m\u001b[0;34m\u001b[0m\u001b[0m\n\u001b[1;32m    626\u001b[0m             \u001b[0mself\u001b[0m\u001b[0;34m.\u001b[0m\u001b[0mjoin_names\u001b[0m\u001b[0;34m,\u001b[0m\u001b[0;34m\u001b[0m\u001b[0;34m\u001b[0m\u001b[0m\n\u001b[0;32m--> 627\u001b[0;31m         ) = self._get_merge_keys()\n\u001b[0m\u001b[1;32m    628\u001b[0m \u001b[0;34m\u001b[0m\u001b[0m\n\u001b[1;32m    629\u001b[0m         \u001b[0;31m# validate the merge keys dtypes. We may need to coerce\u001b[0m\u001b[0;34m\u001b[0m\u001b[0;34m\u001b[0m\u001b[0;34m\u001b[0m\u001b[0m\n",
      "\u001b[0;32m~/opt/anaconda3/lib/python3.8/site-packages/pandas/core/reshape/merge.py\u001b[0m in \u001b[0;36m_get_merge_keys\u001b[0;34m(self)\u001b[0m\n\u001b[1;32m    981\u001b[0m                     \u001b[0;32mif\u001b[0m \u001b[0;32mnot\u001b[0m \u001b[0mis_rkey\u001b[0m\u001b[0;34m(\u001b[0m\u001b[0mrk\u001b[0m\u001b[0;34m)\u001b[0m\u001b[0;34m:\u001b[0m\u001b[0;34m\u001b[0m\u001b[0;34m\u001b[0m\u001b[0m\n\u001b[1;32m    982\u001b[0m                         \u001b[0;32mif\u001b[0m \u001b[0mrk\u001b[0m \u001b[0;32mis\u001b[0m \u001b[0;32mnot\u001b[0m \u001b[0;32mNone\u001b[0m\u001b[0;34m:\u001b[0m\u001b[0;34m\u001b[0m\u001b[0;34m\u001b[0m\u001b[0m\n\u001b[0;32m--> 983\u001b[0;31m                             \u001b[0mright_keys\u001b[0m\u001b[0;34m.\u001b[0m\u001b[0mappend\u001b[0m\u001b[0;34m(\u001b[0m\u001b[0mright\u001b[0m\u001b[0;34m.\u001b[0m\u001b[0m_get_label_or_level_values\u001b[0m\u001b[0;34m(\u001b[0m\u001b[0mrk\u001b[0m\u001b[0;34m)\u001b[0m\u001b[0;34m)\u001b[0m\u001b[0;34m\u001b[0m\u001b[0;34m\u001b[0m\u001b[0m\n\u001b[0m\u001b[1;32m    984\u001b[0m                         \u001b[0;32melse\u001b[0m\u001b[0;34m:\u001b[0m\u001b[0;34m\u001b[0m\u001b[0;34m\u001b[0m\u001b[0m\n\u001b[1;32m    985\u001b[0m                             \u001b[0;31m# work-around for merge_asof(right_index=True)\u001b[0m\u001b[0;34m\u001b[0m\u001b[0;34m\u001b[0m\u001b[0;34m\u001b[0m\u001b[0m\n",
      "\u001b[0;32m~/opt/anaconda3/lib/python3.8/site-packages/pandas/core/generic.py\u001b[0m in \u001b[0;36m_get_label_or_level_values\u001b[0;34m(self, key, axis)\u001b[0m\n\u001b[1;32m   1690\u001b[0m             \u001b[0mvalues\u001b[0m \u001b[0;34m=\u001b[0m \u001b[0mself\u001b[0m\u001b[0;34m.\u001b[0m\u001b[0maxes\u001b[0m\u001b[0;34m[\u001b[0m\u001b[0maxis\u001b[0m\u001b[0;34m]\u001b[0m\u001b[0;34m.\u001b[0m\u001b[0mget_level_values\u001b[0m\u001b[0;34m(\u001b[0m\u001b[0mkey\u001b[0m\u001b[0;34m)\u001b[0m\u001b[0;34m.\u001b[0m\u001b[0m_values\u001b[0m\u001b[0;34m\u001b[0m\u001b[0;34m\u001b[0m\u001b[0m\n\u001b[1;32m   1691\u001b[0m         \u001b[0;32melse\u001b[0m\u001b[0;34m:\u001b[0m\u001b[0;34m\u001b[0m\u001b[0;34m\u001b[0m\u001b[0m\n\u001b[0;32m-> 1692\u001b[0;31m             \u001b[0;32mraise\u001b[0m \u001b[0mKeyError\u001b[0m\u001b[0;34m(\u001b[0m\u001b[0mkey\u001b[0m\u001b[0;34m)\u001b[0m\u001b[0;34m\u001b[0m\u001b[0;34m\u001b[0m\u001b[0m\n\u001b[0m\u001b[1;32m   1693\u001b[0m \u001b[0;34m\u001b[0m\u001b[0m\n\u001b[1;32m   1694\u001b[0m         \u001b[0;31m# Check for duplicates\u001b[0m\u001b[0;34m\u001b[0m\u001b[0;34m\u001b[0m\u001b[0;34m\u001b[0m\u001b[0m\n",
      "\u001b[0;31mKeyError\u001b[0m: 'primary_title'"
     ]
    }
   ],
   "source": [
    "\n",
    "      \n",
    "    \n",
    "    #reviews_df['primary_title'] = movie_df['primary_title'][count]\n",
    "    \n",
    "full_movie_df = pd.merge(movie_df, df_t, on = \"primary_title\")\n",
    "full_movie_df.drop(['Unnamed: 0.1','word_count','char_count', 'runtime_minutes'], axis = 1, inplace = True)\n",
    "    \n",
    "#shange dict to a df\n",
    "\n"
   ]
  },
  {
   "cell_type": "code",
   "execution_count": 52,
   "metadata": {},
   "outputs": [
    {
     "data": {
      "text/html": [
       "<div>\n",
       "<style scoped>\n",
       "    .dataframe tbody tr th:only-of-type {\n",
       "        vertical-align: middle;\n",
       "    }\n",
       "\n",
       "    .dataframe tbody tr th {\n",
       "        vertical-align: top;\n",
       "    }\n",
       "\n",
       "    .dataframe thead th {\n",
       "        text-align: right;\n",
       "    }\n",
       "</style>\n",
       "<table border=\"1\" class=\"dataframe\">\n",
       "  <thead>\n",
       "    <tr style=\"text-align: right;\">\n",
       "      <th></th>\n",
       "      <th>Unnamed: 0</th>\n",
       "      <th>Unnamed: 0.1</th>\n",
       "      <th>tconst</th>\n",
       "      <th>primary_title</th>\n",
       "      <th>runtime_minutes</th>\n",
       "      <th>genres</th>\n",
       "      <th>averagerating</th>\n",
       "      <th>numvotes</th>\n",
       "      <th>id</th>\n",
       "      <th>production_budget</th>\n",
       "      <th>domestic_gross</th>\n",
       "      <th>worldwide_gross</th>\n",
       "      <th>release_month</th>\n",
       "      <th>release_day</th>\n",
       "      <th>release_year</th>\n",
       "    </tr>\n",
       "  </thead>\n",
       "  <tbody>\n",
       "    <tr>\n",
       "      <th>0</th>\n",
       "      <td>0</td>\n",
       "      <td>0</td>\n",
       "      <td>tt0249516</td>\n",
       "      <td>Foodfight</td>\n",
       "      <td>91.0</td>\n",
       "      <td>Action,Animation,Comedy</td>\n",
       "      <td>1.9</td>\n",
       "      <td>8248</td>\n",
       "      <td>26</td>\n",
       "      <td>45000000</td>\n",
       "      <td>0</td>\n",
       "      <td>73706</td>\n",
       "      <td>Dec</td>\n",
       "      <td>31</td>\n",
       "      <td>2012</td>\n",
       "    </tr>\n",
       "    <tr>\n",
       "      <th>1</th>\n",
       "      <td>1</td>\n",
       "      <td>1</td>\n",
       "      <td>tt0326592</td>\n",
       "      <td>The_Overnight</td>\n",
       "      <td>88.0</td>\n",
       "      <td>NaN</td>\n",
       "      <td>7.5</td>\n",
       "      <td>24</td>\n",
       "      <td>21</td>\n",
       "      <td>200000</td>\n",
       "      <td>1109808</td>\n",
       "      <td>1165996</td>\n",
       "      <td>Jun</td>\n",
       "      <td>19</td>\n",
       "      <td>2015</td>\n",
       "    </tr>\n",
       "    <tr>\n",
       "      <th>2</th>\n",
       "      <td>2</td>\n",
       "      <td>2</td>\n",
       "      <td>tt3844362</td>\n",
       "      <td>The_Overnight</td>\n",
       "      <td>79.0</td>\n",
       "      <td>Comedy,Mystery</td>\n",
       "      <td>6.1</td>\n",
       "      <td>14828</td>\n",
       "      <td>21</td>\n",
       "      <td>200000</td>\n",
       "      <td>1109808</td>\n",
       "      <td>1165996</td>\n",
       "      <td>Jun</td>\n",
       "      <td>19</td>\n",
       "      <td>2015</td>\n",
       "    </tr>\n",
       "    <tr>\n",
       "      <th>3</th>\n",
       "      <td>3</td>\n",
       "      <td>3</td>\n",
       "      <td>tt0337692</td>\n",
       "      <td>On_the_Road</td>\n",
       "      <td>124.0</td>\n",
       "      <td>Adventure,Drama,Romance</td>\n",
       "      <td>6.1</td>\n",
       "      <td>37886</td>\n",
       "      <td>17</td>\n",
       "      <td>25000000</td>\n",
       "      <td>720828</td>\n",
       "      <td>9313302</td>\n",
       "      <td>Mar</td>\n",
       "      <td>22</td>\n",
       "      <td>2013</td>\n",
       "    </tr>\n",
       "    <tr>\n",
       "      <th>4</th>\n",
       "      <td>4</td>\n",
       "      <td>4</td>\n",
       "      <td>tt4339118</td>\n",
       "      <td>On_the_Road</td>\n",
       "      <td>89.0</td>\n",
       "      <td>Drama</td>\n",
       "      <td>6.0</td>\n",
       "      <td>6</td>\n",
       "      <td>17</td>\n",
       "      <td>25000000</td>\n",
       "      <td>720828</td>\n",
       "      <td>9313302</td>\n",
       "      <td>Mar</td>\n",
       "      <td>22</td>\n",
       "      <td>2013</td>\n",
       "    </tr>\n",
       "    <tr>\n",
       "      <th>...</th>\n",
       "      <td>...</td>\n",
       "      <td>...</td>\n",
       "      <td>...</td>\n",
       "      <td>...</td>\n",
       "      <td>...</td>\n",
       "      <td>...</td>\n",
       "      <td>...</td>\n",
       "      <td>...</td>\n",
       "      <td>...</td>\n",
       "      <td>...</td>\n",
       "      <td>...</td>\n",
       "      <td>...</td>\n",
       "      <td>...</td>\n",
       "      <td>...</td>\n",
       "      <td>...</td>\n",
       "    </tr>\n",
       "    <tr>\n",
       "      <th>2870</th>\n",
       "      <td>2870</td>\n",
       "      <td>2870</td>\n",
       "      <td>tt8680254</td>\n",
       "      <td>Richard_III</td>\n",
       "      <td>NaN</td>\n",
       "      <td>Drama</td>\n",
       "      <td>9.1</td>\n",
       "      <td>28</td>\n",
       "      <td>65</td>\n",
       "      <td>9200000</td>\n",
       "      <td>2684904</td>\n",
       "      <td>4199334</td>\n",
       "      <td>Dec</td>\n",
       "      <td>29</td>\n",
       "      <td>1995</td>\n",
       "    </tr>\n",
       "    <tr>\n",
       "      <th>2871</th>\n",
       "      <td>2871</td>\n",
       "      <td>2871</td>\n",
       "      <td>tt8824064</td>\n",
       "      <td>Heroes</td>\n",
       "      <td>88.0</td>\n",
       "      <td>Documentary</td>\n",
       "      <td>7.3</td>\n",
       "      <td>7</td>\n",
       "      <td>12</td>\n",
       "      <td>400000</td>\n",
       "      <td>655538</td>\n",
       "      <td>655538</td>\n",
       "      <td>Oct</td>\n",
       "      <td>24</td>\n",
       "      <td>2008</td>\n",
       "    </tr>\n",
       "    <tr>\n",
       "      <th>2872</th>\n",
       "      <td>2872</td>\n",
       "      <td>2872</td>\n",
       "      <td>tt8976772</td>\n",
       "      <td>Push</td>\n",
       "      <td>92.0</td>\n",
       "      <td>Documentary</td>\n",
       "      <td>7.3</td>\n",
       "      <td>33</td>\n",
       "      <td>70</td>\n",
       "      <td>38000000</td>\n",
       "      <td>31811527</td>\n",
       "      <td>49678401</td>\n",
       "      <td>Feb</td>\n",
       "      <td>6</td>\n",
       "      <td>2009</td>\n",
       "    </tr>\n",
       "    <tr>\n",
       "      <th>2873</th>\n",
       "      <td>2873</td>\n",
       "      <td>2873</td>\n",
       "      <td>tt9024106</td>\n",
       "      <td>Unplanned</td>\n",
       "      <td>106.0</td>\n",
       "      <td>Biography,Drama</td>\n",
       "      <td>6.3</td>\n",
       "      <td>5945</td>\n",
       "      <td>33</td>\n",
       "      <td>6000000</td>\n",
       "      <td>18107621</td>\n",
       "      <td>18107621</td>\n",
       "      <td>Mar</td>\n",
       "      <td>29</td>\n",
       "      <td>2019</td>\n",
       "    </tr>\n",
       "    <tr>\n",
       "      <th>2874</th>\n",
       "      <td>2874</td>\n",
       "      <td>2874</td>\n",
       "      <td>tt9248762</td>\n",
       "      <td>The_Terrorist</td>\n",
       "      <td>NaN</td>\n",
       "      <td>Thriller</td>\n",
       "      <td>6.0</td>\n",
       "      <td>6</td>\n",
       "      <td>48</td>\n",
       "      <td>25000</td>\n",
       "      <td>195043</td>\n",
       "      <td>195043</td>\n",
       "      <td>Jan</td>\n",
       "      <td>14</td>\n",
       "      <td>2000</td>\n",
       "    </tr>\n",
       "  </tbody>\n",
       "</table>\n",
       "<p>2875 rows × 15 columns</p>\n",
       "</div>"
      ],
      "text/plain": [
       "      Unnamed: 0  Unnamed: 0.1     tconst  primary_title  runtime_minutes  \\\n",
       "0              0             0  tt0249516      Foodfight             91.0   \n",
       "1              1             1  tt0326592  The_Overnight             88.0   \n",
       "2              2             2  tt3844362  The_Overnight             79.0   \n",
       "3              3             3  tt0337692    On_the_Road            124.0   \n",
       "4              4             4  tt4339118    On_the_Road             89.0   \n",
       "...          ...           ...        ...            ...              ...   \n",
       "2870        2870          2870  tt8680254    Richard_III              NaN   \n",
       "2871        2871          2871  tt8824064         Heroes             88.0   \n",
       "2872        2872          2872  tt8976772           Push             92.0   \n",
       "2873        2873          2873  tt9024106      Unplanned            106.0   \n",
       "2874        2874          2874  tt9248762  The_Terrorist              NaN   \n",
       "\n",
       "                       genres  averagerating  numvotes  id  production_budget  \\\n",
       "0     Action,Animation,Comedy            1.9      8248  26           45000000   \n",
       "1                         NaN            7.5        24  21             200000   \n",
       "2              Comedy,Mystery            6.1     14828  21             200000   \n",
       "3     Adventure,Drama,Romance            6.1     37886  17           25000000   \n",
       "4                       Drama            6.0         6  17           25000000   \n",
       "...                       ...            ...       ...  ..                ...   \n",
       "2870                    Drama            9.1        28  65            9200000   \n",
       "2871              Documentary            7.3         7  12             400000   \n",
       "2872              Documentary            7.3        33  70           38000000   \n",
       "2873          Biography,Drama            6.3      5945  33            6000000   \n",
       "2874                 Thriller            6.0         6  48              25000   \n",
       "\n",
       "      domestic_gross  worldwide_gross release_month  release_day  release_year  \n",
       "0                  0            73706           Dec           31          2012  \n",
       "1            1109808          1165996           Jun           19          2015  \n",
       "2            1109808          1165996           Jun           19          2015  \n",
       "3             720828          9313302           Mar           22          2013  \n",
       "4             720828          9313302           Mar           22          2013  \n",
       "...              ...              ...           ...          ...           ...  \n",
       "2870         2684904          4199334           Dec           29          1995  \n",
       "2871          655538           655538           Oct           24          2008  \n",
       "2872        31811527         49678401           Feb            6          2009  \n",
       "2873        18107621         18107621           Mar           29          2019  \n",
       "2874          195043           195043           Jan           14          2000  \n",
       "\n",
       "[2875 rows x 15 columns]"
      ]
     },
     "execution_count": 52,
     "metadata": {},
     "output_type": "execute_result"
    }
   ],
   "source": [
    "movie_df"
   ]
  },
  {
   "cell_type": "code",
   "execution_count": 56,
   "metadata": {},
   "outputs": [],
   "source": [
    "df_t.to_csv('/Users/markdetiberiis/MovieMonths/sentiment_reviews.csv')"
   ]
  },
  {
   "cell_type": "code",
   "execution_count": 57,
   "metadata": {},
   "outputs": [],
   "source": [
    "\n",
    "\n",
    "movie_df.to_csv('/Users/markdetiberiis/MovieMonths/movie_df.csv')"
   ]
  },
  {
   "cell_type": "code",
   "execution_count": null,
   "metadata": {},
   "outputs": [],
   "source": []
  },
  {
   "cell_type": "code",
   "execution_count": null,
   "metadata": {},
   "outputs": [],
   "source": []
  }
 ],
 "metadata": {
  "kernelspec": {
   "display_name": "Python 3",
   "language": "python",
   "name": "python3"
  },
  "language_info": {
   "codemirror_mode": {
    "name": "ipython",
    "version": 3
   },
   "file_extension": ".py",
   "mimetype": "text/x-python",
   "name": "python",
   "nbconvert_exporter": "python",
   "pygments_lexer": "ipython3",
   "version": "3.8.3"
  }
 },
 "nbformat": 4,
 "nbformat_minor": 4
}
