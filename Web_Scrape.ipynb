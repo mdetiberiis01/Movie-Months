{
 "cells": [
  {
   "cell_type": "code",
   "execution_count": 2,
   "metadata": {},
   "outputs": [],
   "source": [
    "#Import everything \n",
    "\n",
    "import pandas as pd\n",
    "import numpy as np\n",
    "import requests\n",
    "import json\n",
    "from bs4 import BeautifulSoup\n",
    "import csv\n",
    "\n",
    "import matplotlib.pyplot as plt\n",
    "plt.style.use('seaborn')\n"
   ]
  },
  {
   "cell_type": "code",
   "execution_count": 3,
   "metadata": {},
   "outputs": [],
   "source": [
    "#starting sentiment analysis \n",
    "\n",
    "import nltk\n",
    "from nltk.corpus import stopwords\n",
    "\n",
    "#Lemmatization\n",
    "#Basically changing word like resturants to resturant(words to word) bc really they mean the same thing \n",
    "\n",
    "import textblob\n",
    "\n",
    "from textblob import Word\n",
    "\n",
    "from nltk.stem import WordNetLemmatizer \n",
    "  \n",
    "lemmatizer = WordNetLemmatizer() \n",
    "\n",
    "#Sentiment Analysis\n",
    "\n",
    "from textblob import TextBlob"
   ]
  },
  {
   "cell_type": "code",
   "execution_count": 4,
   "metadata": {},
   "outputs": [],
   "source": [
    "#Create a function to gather average number of words per review\n",
    "\n",
    "def average_words(x):\n",
    "    words = x.split() #to give the # of words\n",
    "    return sum(len(word)for word in words) / len(words)"
   ]
  },
  {
   "cell_type": "code",
   "execution_count": 5,
   "metadata": {},
   "outputs": [],
   "source": [
    "movie_df = pd.read_csv('/Users/markdetiberiis/MovieMonths/movie_df.csv')"
   ]
  },
  {
   "cell_type": "code",
   "execution_count": 6,
   "metadata": {},
   "outputs": [],
   "source": [
    "f = open('/Users/markdetiberiis/MovieMonths/movie_titles.csv')\n",
    "csv_f = csv.reader(f)"
   ]
  },
  {
   "cell_type": "code",
   "execution_count": 7,
   "metadata": {},
   "outputs": [],
   "source": [
    "with open('/Users/markdetiberiis/MovieMonths/movie_titles.csv', newline='') as f:\n",
    "    reader = csv.reader(f)\n",
    "    titles = list(reader)\n",
    "\n"
   ]
  },
  {
   "cell_type": "code",
   "execution_count": 8,
   "metadata": {},
   "outputs": [],
   "source": [
    "new_list = []\n",
    "for v in titles:\n",
    "    new_list.append(v[0])"
   ]
  },
  {
   "cell_type": "code",
   "execution_count": 9,
   "metadata": {},
   "outputs": [
    {
     "data": {
      "text/plain": [
       "'The_Rum_Diary'"
      ]
     },
     "execution_count": 9,
     "metadata": {},
     "output_type": "execute_result"
    }
   ],
   "source": [
    "new_list[10]"
   ]
  },
  {
   "cell_type": "code",
   "execution_count": 13,
   "metadata": {},
   "outputs": [
    {
     "data": {
      "text/plain": [
       "2876"
      ]
     },
     "execution_count": 13,
     "metadata": {},
     "output_type": "execute_result"
    }
   ],
   "source": [
    "len(new_list)"
   ]
  },
  {
   "cell_type": "code",
   "execution_count": 14,
   "metadata": {},
   "outputs": [
    {
     "data": {
      "text/plain": [
       "'The_Terrorist'"
      ]
     },
     "execution_count": 14,
     "metadata": {},
     "output_type": "execute_result"
    }
   ],
   "source": [
    "new_list[-1]"
   ]
  },
  {
   "cell_type": "code",
   "execution_count": 10,
   "metadata": {},
   "outputs": [],
   "source": [
    "#stop words that dont add value\n",
    "\n",
    "other_stopwords = ['us','get','also','would','end']"
   ]
  },
  {
   "cell_type": "code",
   "execution_count": null,
   "metadata": {},
   "outputs": [],
   "source": [
    "#Need a counter to count which index to set primary_title equal too\n",
    "#Need a sleep counter to make sure webpage dosent block us \n",
    "counter = 0\n",
    "for title in new_list:\n",
    "    R = requests.get('https://www.rottentomatoes.com/m/{}'.format(title))\n",
    "    if R.status_code == 404:\n",
    "        counter += 1\n",
    "        continue \n",
    "    elif R.status_code == 500:\n",
    "        counter += 1\n",
    "        continue \n",
    "    else:\n",
    "        soup = BeautifulSoup(R.text, 'html.parser')\n",
    "#collect the div content \n",
    "        divs = soup.findAll(class_='media-body quote_bubble__quote')\n",
    "\n",
    "        reviews = []\n",
    "        for div in divs:\n",
    "            reviews.append(div.find('p').text)\n",
    "\n",
    "        clean_reviews = []\n",
    "\n",
    "        for x in reviews:\n",
    "            clean_reviews.append(x.strip())\n",
    "\n",
    "        reviews_df = pd.DataFrame(np.array(clean_reviews), columns = ['review'])\n",
    "\n",
    "#add movie name \n",
    "        reviews_df['primary_title'] = title\n",
    "\n",
    "        #reviews_df['movie_name'] = new_list[title]\n",
    "\n",
    "#Gather the word length of each review\n",
    "\n",
    "        reviews_df['word_count'] = reviews_df['review'].apply(lambda x: len(x.split()))\n",
    "\n",
    "#Gather the character count of each review\n",
    "\n",
    "        reviews_df['char_count'] = reviews_df['review'].apply(lambda x: len(x))\n",
    "        reviews_df['average_word_length'] = reviews_df['review'].apply(lambda x: average_words(x))\n",
    "        stop_words = stopwords.words('english')\n",
    "\n",
    "#How many stop words in each review \n",
    "\n",
    "        reviews_df['stopword_count'] = reviews_df['review'].apply(lambda x: len([word for word in x.split() if word in stop_words]))\n",
    "        reviews_df['stopword_percentage'] = reviews_df['stopword_count']/reviews_df['word_count']\n",
    "\n",
    "#Data Cleaning \n",
    "\n",
    "#looping through each word which is x\n",
    "#splititng x givng us every word\n",
    "#every word we get back were lowering\n",
    "\n",
    "        reviews_df['lowercase'] = reviews_df['review'].apply(lambda x: \" \".join(word.lower() for word in x.split()))\n",
    "\n",
    "#removing puncuations\n",
    "        reviews_df['punctuation'] = reviews_df['lowercase'].astype(str).str.replace('[^\\w\\s]', '')\n",
    "        reviews_df['stopwords'] = reviews_df['punctuation'].apply(lambda x: \" \".join(word for word in x.split() if word not in stop_words))\n",
    "        reviews_df['clean_review'] = reviews_df['stopwords'].apply(lambda x: \" \".join(word for word in x.split() if word not in other_stopwords))\n",
    "\n",
    "\n",
    "#an array of every single word in all the reviews\n",
    "\n",
    "#pd.Series(\" \".join(reviews_df['clean_review']).split()).value_counts()[:30]\n",
    "        reviews_df['lemmatized'] = reviews_df['clean_review'].apply(lambda x: \" \".join(Word(word).lemmatize() for word in x.split()))\n",
    "#Sentiment Analysis\n",
    "        reviews_df['polarity'] = reviews_df['lemmatized'].apply(lambda x: TextBlob(x).sentiment[0])\n",
    "        reviews_df['subjectivity'] = reviews_df['lemmatized'].apply(lambda x: TextBlob(x).sentiment[1])\n",
    "#clean up columns we dont need now\n",
    "        reviews_df.drop(['lowercase','punctuation','stopwords','clean_review', 'lemmatized'], axis = 1, inplace = True)\n",
    "        reviews_df['total_polarity'] = reviews_df.polarity.mean()\n",
    "    \n",
    "        counter += 1\n",
    "    count = counter -1\n",
    "    \n",
    "    reviews_df['primary_title'] = movie_df['primary_title'][count]\n",
    "    \n",
    "    full_movie_df = pd.merge(movie_df, reviews_df, on = \"primary_title\")\n",
    "    full_movie_df.drop(['Unnamed: 0.1','word_count','char_count', 'runtime_minutes'], axis = 1, inplace = True)\n",
    "\n",
    "#print the df\n",
    "full_movie_df.head()"
   ]
  },
  {
   "cell_type": "code",
   "execution_count": null,
   "metadata": {},
   "outputs": [],
   "source": []
  },
  {
   "cell_type": "code",
   "execution_count": 86,
   "metadata": {},
   "outputs": [
    {
     "data": {
      "text/html": [
       "<div>\n",
       "<style scoped>\n",
       "    .dataframe tbody tr th:only-of-type {\n",
       "        vertical-align: middle;\n",
       "    }\n",
       "\n",
       "    .dataframe tbody tr th {\n",
       "        vertical-align: top;\n",
       "    }\n",
       "\n",
       "    .dataframe thead th {\n",
       "        text-align: right;\n",
       "    }\n",
       "</style>\n",
       "<table border=\"1\" class=\"dataframe\">\n",
       "  <thead>\n",
       "    <tr style=\"text-align: right;\">\n",
       "      <th></th>\n",
       "      <th>Unnamed: 0</th>\n",
       "      <th>Unnamed: 0.1</th>\n",
       "      <th>tconst</th>\n",
       "      <th>primary_title</th>\n",
       "      <th>runtime_minutes</th>\n",
       "      <th>genres</th>\n",
       "      <th>averagerating</th>\n",
       "      <th>numvotes</th>\n",
       "      <th>id</th>\n",
       "      <th>production_budget</th>\n",
       "      <th>domestic_gross</th>\n",
       "      <th>worldwide_gross</th>\n",
       "      <th>release_month</th>\n",
       "      <th>release_day</th>\n",
       "      <th>release_year</th>\n",
       "      <th>total_polarity</th>\n",
       "    </tr>\n",
       "  </thead>\n",
       "  <tbody>\n",
       "    <tr>\n",
       "      <th>0</th>\n",
       "      <td>0</td>\n",
       "      <td>0</td>\n",
       "      <td>tt0249516</td>\n",
       "      <td>Foodfight</td>\n",
       "      <td>91.0</td>\n",
       "      <td>Action,Animation,Comedy</td>\n",
       "      <td>1.9</td>\n",
       "      <td>8248</td>\n",
       "      <td>26</td>\n",
       "      <td>45000000</td>\n",
       "      <td>0</td>\n",
       "      <td>73706</td>\n",
       "      <td>Dec</td>\n",
       "      <td>31</td>\n",
       "      <td>2012</td>\n",
       "      <td>-0.156318</td>\n",
       "    </tr>\n",
       "    <tr>\n",
       "      <th>1</th>\n",
       "      <td>1</td>\n",
       "      <td>1</td>\n",
       "      <td>tt0326592</td>\n",
       "      <td>The_Overnight</td>\n",
       "      <td>88.0</td>\n",
       "      <td>NaN</td>\n",
       "      <td>7.5</td>\n",
       "      <td>24</td>\n",
       "      <td>21</td>\n",
       "      <td>200000</td>\n",
       "      <td>1109808</td>\n",
       "      <td>1165996</td>\n",
       "      <td>Jun</td>\n",
       "      <td>19</td>\n",
       "      <td>2015</td>\n",
       "      <td>-0.156318</td>\n",
       "    </tr>\n",
       "    <tr>\n",
       "      <th>2</th>\n",
       "      <td>2</td>\n",
       "      <td>2</td>\n",
       "      <td>tt3844362</td>\n",
       "      <td>The_Overnight</td>\n",
       "      <td>79.0</td>\n",
       "      <td>Comedy,Mystery</td>\n",
       "      <td>6.1</td>\n",
       "      <td>14828</td>\n",
       "      <td>21</td>\n",
       "      <td>200000</td>\n",
       "      <td>1109808</td>\n",
       "      <td>1165996</td>\n",
       "      <td>Jun</td>\n",
       "      <td>19</td>\n",
       "      <td>2015</td>\n",
       "      <td>-0.156318</td>\n",
       "    </tr>\n",
       "    <tr>\n",
       "      <th>3</th>\n",
       "      <td>3</td>\n",
       "      <td>3</td>\n",
       "      <td>tt0337692</td>\n",
       "      <td>On_the_Road</td>\n",
       "      <td>124.0</td>\n",
       "      <td>Adventure,Drama,Romance</td>\n",
       "      <td>6.1</td>\n",
       "      <td>37886</td>\n",
       "      <td>17</td>\n",
       "      <td>25000000</td>\n",
       "      <td>720828</td>\n",
       "      <td>9313302</td>\n",
       "      <td>Mar</td>\n",
       "      <td>22</td>\n",
       "      <td>2013</td>\n",
       "      <td>-0.156318</td>\n",
       "    </tr>\n",
       "    <tr>\n",
       "      <th>4</th>\n",
       "      <td>4</td>\n",
       "      <td>4</td>\n",
       "      <td>tt4339118</td>\n",
       "      <td>On_the_Road</td>\n",
       "      <td>89.0</td>\n",
       "      <td>Drama</td>\n",
       "      <td>6.0</td>\n",
       "      <td>6</td>\n",
       "      <td>17</td>\n",
       "      <td>25000000</td>\n",
       "      <td>720828</td>\n",
       "      <td>9313302</td>\n",
       "      <td>Mar</td>\n",
       "      <td>22</td>\n",
       "      <td>2013</td>\n",
       "      <td>-0.156318</td>\n",
       "    </tr>\n",
       "  </tbody>\n",
       "</table>\n",
       "</div>"
      ],
      "text/plain": [
       "   Unnamed: 0  Unnamed: 0.1     tconst  primary_title  runtime_minutes  \\\n",
       "0           0             0  tt0249516      Foodfight             91.0   \n",
       "1           1             1  tt0326592  The_Overnight             88.0   \n",
       "2           2             2  tt3844362  The_Overnight             79.0   \n",
       "3           3             3  tt0337692    On_the_Road            124.0   \n",
       "4           4             4  tt4339118    On_the_Road             89.0   \n",
       "\n",
       "                    genres  averagerating  numvotes  id  production_budget  \\\n",
       "0  Action,Animation,Comedy            1.9      8248  26           45000000   \n",
       "1                      NaN            7.5        24  21             200000   \n",
       "2           Comedy,Mystery            6.1     14828  21             200000   \n",
       "3  Adventure,Drama,Romance            6.1     37886  17           25000000   \n",
       "4                    Drama            6.0         6  17           25000000   \n",
       "\n",
       "   domestic_gross  worldwide_gross release_month  release_day  release_year  \\\n",
       "0               0            73706           Dec           31          2012   \n",
       "1         1109808          1165996           Jun           19          2015   \n",
       "2         1109808          1165996           Jun           19          2015   \n",
       "3          720828          9313302           Mar           22          2013   \n",
       "4          720828          9313302           Mar           22          2013   \n",
       "\n",
       "   total_polarity  \n",
       "0       -0.156318  \n",
       "1       -0.156318  \n",
       "2       -0.156318  \n",
       "3       -0.156318  \n",
       "4       -0.156318  "
      ]
     },
     "execution_count": 86,
     "metadata": {},
     "output_type": "execute_result"
    }
   ],
   "source": [
    "#reviews_df['polarity'].mean()\n",
    "\n",
    "movie_df.head()"
   ]
  },
  {
   "cell_type": "code",
   "execution_count": null,
   "metadata": {},
   "outputs": [],
   "source": []
  }
 ],
 "metadata": {
  "kernelspec": {
   "display_name": "Python 3",
   "language": "python",
   "name": "python3"
  },
  "language_info": {
   "codemirror_mode": {
    "name": "ipython",
    "version": 3
   },
   "file_extension": ".py",
   "mimetype": "text/x-python",
   "name": "python",
   "nbconvert_exporter": "python",
   "pygments_lexer": "ipython3",
   "version": "3.8.3"
  }
 },
 "nbformat": 4,
 "nbformat_minor": 4
}
